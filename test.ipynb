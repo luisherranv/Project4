{
 "cells": [
  {
   "cell_type": "code",
   "execution_count": 3,
   "id": "d7125a8b-b3a5-4c60-a7fa-80e8d0614ed9",
   "metadata": {},
   "outputs": [
    {
     "name": "stderr",
     "output_type": "stream",
     "text": [
      "/Users/luisherran/anaconda3/envs/dev/lib/python3.10/site-packages/keras/src/layers/core/dense.py:87: UserWarning: Do not pass an `input_shape`/`input_dim` argument to a layer. When using Sequential models, prefer using an `Input(shape)` object as the first layer in the model instead.\n",
      "  super().__init__(activity_regularizer=activity_regularizer, **kwargs)\n",
      "WARNING:absl:Compiled the loaded model, but the compiled metrics have yet to be built. `model.compile_metrics` will be empty until you train or evaluate the model.\n",
      "WARNING:absl:Error in loading the saved optimizer state. As a result, your model is starting with a freshly initialized optimizer.\n"
     ]
    },
    {
     "name": "stdout",
     "output_type": "stream",
     "text": [
      "\u001b[1m1/1\u001b[0m \u001b[32m━━━━━━━━━━━━━━━━━━━━\u001b[0m\u001b[37m\u001b[0m \u001b[1m0s\u001b[0m 54ms/step\n",
      "Data Point 1:\n",
      "Probabilities: [0.01435454 0.25511515 0.64765435 0.08287595]\n",
      "Chosen Class: 3rdQ\n",
      "\n"
     ]
    },
    {
     "name": "stderr",
     "output_type": "stream",
     "text": [
      "/Users/luisherran/anaconda3/envs/dev/lib/python3.10/site-packages/sklearn/base.py:347: InconsistentVersionWarning: Trying to unpickle estimator StandardScaler from version 1.2.2 when using version 1.3.0. This might lead to breaking code or invalid results. Use at your own risk. For more info please refer to:\n",
      "https://scikit-learn.org/stable/model_persistence.html#security-maintainability-limitations\n",
      "  warnings.warn(\n",
      "/Users/luisherran/anaconda3/envs/dev/lib/python3.10/site-packages/sklearn/base.py:457: UserWarning: X has feature names, but StandardScaler was fitted without feature names\n",
      "  warnings.warn(\n"
     ]
    }
   ],
   "source": [
    "import pandas as pd\n",
    "import numpy as np\n",
    "import tensorflow as tf\n",
    "import joblib\n",
    "import matplotlib.pyplot as plt\n",
    "\n",
    "# Load the model and scaler\n",
    "model = tf.keras.models.load_model('SpotifyModelOptimized_5.h5')\n",
    "scaler = joblib.load('scaler_5.pkl')\n",
    "with open('training_columns 2.txt', 'r') as f:\n",
    "    training_columns = [line.strip() for line in f]\n",
    "\n",
    "# Read test data from CSV\n",
    "test_data = pd.read_csv('most_pop.csv')\n",
    "\n",
    "# Function to preprocess and predict\n",
    "def predict(test_data):\n",
    "    # Ensure the test_data is in the expected format\n",
    "    dummied_input_data = pd.get_dummies(test_data, columns=['genre'])\n",
    "    dummied_input_data = dummied_input_data.reindex(columns=training_columns, fill_value=0)\n",
    "    scaled_input_data = scaler.transform(dummied_input_data)\n",
    "\n",
    "    # Make prediction\n",
    "    predictions = model.predict(scaled_input_data)\n",
    "    return predictions\n",
    "\n",
    "# Make predictions on test data\n",
    "results = predict(test_data)\n",
    "\n",
    "# Print results\n",
    "for i, probabilities in enumerate(results):\n",
    "    chosen_class = np.argmax(probabilities)\n",
    "    class_labels = ['1stQ', '2ndQ', '3rdQ', '4thQ']\n",
    "    print(f\"Data Point {i+1}:\")\n",
    "    print(f\"Probabilities: {probabilities}\")\n",
    "    print(f\"Chosen Class: {class_labels[chosen_class]}\")\n",
    "    print()\n",
    "\n",
    "\n"
   ]
  },
  {
   "cell_type": "code",
   "execution_count": 11,
   "id": "2573b120-6b7f-4744-afd0-3f421550f0a9",
   "metadata": {},
   "outputs": [
    {
     "name": "stdout",
     "output_type": "stream",
     "text": [
      "[0.01435454 0.25511515 0.64765435 0.08287595]\n"
     ]
    },
    {
     "data": {
      "image/png": "[encoded data removed]",
      "text/plain": [
       "<Figure size 640x480 with 1 Axes>"
      ]
     },
     "metadata": {},
     "output_type": "display_data"
    }
   ],
   "source": [
    "labels =['0-25', '25-50', '50-75', '75-100']\n",
    "popularity = probabilities\n",
    "print(popularity)\n",
    "plt.bar(labels, popularity, width=0.95)\n",
    "plt.xlabel('Popularity Range')\n",
    "plt.ylabel('Probability')\n",
    "plt.title('Porbability of Popularity')\n",
    "plt.show()"
   ]
  },
  {
   "cell_type": "code",
   "execution_count": null,
   "id": "e39cc715-d33f-4438-a119-222d879eb996",
   "metadata": {},
   "outputs": [],
   "source": []
  }
 ],
 "metadata": {
  "kernelspec": {
   "display_name": "Python 3 (ipykernel)",
   "language": "python",
   "name": "python3"
  },
  "language_info": {
   "codemirror_mode": {
    "name": "ipython",
    "version": 3
   },
   "file_extension": ".py",
   "mimetype": "text/x-python",
   "name": "python",
   "nbconvert_exporter": "python",
   "pygments_lexer": "ipython3",
   "version": "3.10.13"
  }
 },
 "nbformat": 4,
 "nbformat_minor": 5
}
