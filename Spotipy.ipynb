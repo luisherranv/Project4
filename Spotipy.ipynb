{
 "cells": [
  {
   "cell_type": "code",
   "execution_count": 2,
   "id": "ae79376d-9e02-472d-902d-d9c384c5d333",
   "metadata": {},
   "outputs": [],
   "source": [
    "import spotipy\n",
    "from spotipy.oauth2 import SpotifyClientCredentials\n",
    "from keys import client_id, client_secret"
   ]
  },
  {
   "cell_type": "code",
   "execution_count": 3,
   "id": "417d5986-58d9-4bad-b50c-ec0b7b691d25",
   "metadata": {},
   "outputs": [],
   "source": [
    "# Authenticate with Spotify API\n",
    "client_credentials_manager = SpotifyClientCredentials(client_id=client_id, client_secret=client_secret)\n",
    "sp = spotipy.Spotify(client_credentials_manager=client_credentials_manager)\n"
   ]
  },
  {
   "cell_type": "code",
   "execution_count": null,
   "id": "4543a9f0-6596-4e08-85b0-e327d358d7f4",
   "metadata": {},
   "outputs": [],
   "source": [
    "spotify_data_raw = pd.read_csv('spotify_data.csv')\n",
    "spotify_data_raw.head()"
   ]
  },
  {
   "cell_type": "code",
   "execution_count": 10,
   "id": "d0931959-eb06-4325-8694-9d9cd8d2c0df",
   "metadata": {},
   "outputs": [
    {
     "name": "stdout",
     "output_type": "stream",
     "text": [
      "Ed Sheeran   85\n",
      "Beyoncé   86\n"
     ]
    }
   ],
   "source": [
    "\n",
    "# Example: Get artist details\n",
    "artist_names = [\"Ed Sheeran\", 'Beyonce']\n",
    "artist_pop = []\n",
    "for a in artist_names:\n",
    "    result = sp.search(q='artist:' + a, type='artist')\n",
    "    artist = result['artists']['items'][0]\n",
    "    pop = artist['popularity']\n",
    "    name =  artist['name']\n",
    "    print(name, ' ', pop)\n"
   ]
  },
  {
   "cell_type": "code",
   "execution_count": null,
   "id": "0f8c8a54-606e-4008-ac3d-ff3641bbcce7",
   "metadata": {},
   "outputs": [],
   "source": []
  }
 ],
 "metadata": {
  "kernelspec": {
   "display_name": "Python 3 (ipykernel)",
   "language": "python",
   "name": "python3"
  },
  "language_info": {
   "codemirror_mode": {
    "name": "ipython",
    "version": 3
   },
   "file_extension": ".py",
   "mimetype": "text/x-python",
   "name": "python",
   "nbconvert_exporter": "python",
   "pygments_lexer": "ipython3",
   "version": "3.10.13"
  }
 },
 "nbformat": 4,
 "nbformat_minor": 5
}
